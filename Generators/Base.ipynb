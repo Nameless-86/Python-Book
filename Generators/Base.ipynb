{
 "cells": [
  {
   "attachments": {},
   "cell_type": "markdown",
   "metadata": {},
   "source": [
    "WTF Is a generator\n",
    "In Python, generators are a type of iterable, similar to lists or tuples, but with a different way of generating values. While lists store all the generated values in memory, generators generate values on-the-fly, which makes them more memory-efficient for large data sets or infinite sequences."
   ]
  },
  {
   "cell_type": "code",
   "execution_count": null,
   "metadata": {},
   "outputs": [],
   "source": [
    "def my_generator():\n",
    "    yield 1\n",
    "    yield 2\n",
    "    yield 3\n",
    "\n",
    "# Create a generator object\n",
    "gen = my_generator()\n",
    "\n",
    "# Iterate over the generated values\n",
    "print(next(gen))  # Output: 1\n",
    "print(next(gen))  # Output: 2\n",
    "print(next(gen))  # Output: 3\n",
    "\n",
    "# StopIteration exception is raised when there are no more values\n",
    "# print(next(gen))  # Raises StopIteration\n"
   ]
  },
  {
   "attachments": {},
   "cell_type": "markdown",
   "metadata": {},
   "source": [
    "my_generator() is a generator function that yields three values: 1, 2, and 3. We create a generator object gen by calling my_generator(). We can then iterate over the generated values using the next() function. Each next(gen) call resumes the execution of the generator function from where it left off until the next yield statement is encountered."
   ]
  }
 ],
 "metadata": {
  "language_info": {
   "name": "python"
  },
  "orig_nbformat": 4
 },
 "nbformat": 4,
 "nbformat_minor": 2
}
