{
  "cells": [
    {
      "attachments": {},
      "cell_type": "markdown",
      "metadata": {
        "id": "2XwU_IdQSVJC"
      },
      "source": [
        "## Divide & Conquer"
      ]
    },
    {
      "attachments": {},
      "cell_type": "markdown",
      "metadata": {
        "id": "rG_h_vvsYwQd"
      },
      "source": [
        "**Ejercicio 1** Implemente un algoritmo Divide y Vencerás que calcule la suma de los numeros en una lista"
      ]
    },
    {
      "cell_type": "code",
      "execution_count": 11,
      "metadata": {},
      "outputs": [
        {
          "name": "stdout",
          "output_type": "stream",
          "text": [
            "41\n"
          ]
        }
      ],
      "source": [
        "def es_caso_base(S:list)-> bool:\n",
        "    if len(S) <= 1: return True\n",
        "    return False\n",
        "\n",
        "def resolver_caso_base(S:list)->int:\n",
        "    return S[0]\n",
        "\n",
        "def dividir(S:list)->tuple:\n",
        "    mitad = len(S) //2\n",
        "    izquierda = S[:mitad]\n",
        "    derecha = S[mitad:]\n",
        "    return izquierda, derecha\n",
        "\n",
        "def combinar(S1:list, S2:list) ->list:\n",
        "    return S1+S2\n",
        "\n",
        "def resolver(S: list) ->list:\n",
        "    if es_caso_base(S):\n",
        "        return resolver_caso_base(S)\n",
        "    S1,S2 = dividir(S)\n",
        "    sol1 = resolver(S1)\n",
        "    sol2 = resolver(S2)\n",
        "\n",
        "    return combinar(sol1,sol2)\n",
        "\n",
        "lista = [1,5,10,25]\n",
        "print(resolver(lista))"
      ]
    },
    {
      "attachments": {},
      "cell_type": "markdown",
      "metadata": {
        "id": "LzWEZtqlaThI"
      },
      "source": [
        "**Ejercicio 2** Búsqueda binaria\n",
        "\n",
        "Implemente un algoritmo Divide y Vencerás que encuentre un número en una lista ordenada. ¿Es necesario resolver todos los subproblemas?"
      ]
    },
    {
      "cell_type": "code",
      "execution_count": null,
      "metadata": {},
      "outputs": [],
      "source": [
        "def binary_search(data, target, low, high):\n",
        "    \"\"\"Return True if target is found in indicated portion of a python list\"\"\"\n",
        "\n",
        "    if low > high:\n",
        "        return False\n",
        "    else:\n",
        "        mid = (low + high) //2\n",
        "        if target == data[mid]:\n",
        "            return True\n",
        "        elif target < data[mid]:\n",
        "            #Recur on the portion left of the middle\n",
        "            return binary_search(data, target, low, mid -1)\n",
        "        else:\n",
        "            #Recur on the portion right of the middle\n",
        "            return binary_search(data, target, mid+1, high)"
      ]
    },
    {
      "attachments": {},
      "cell_type": "markdown",
      "metadata": {
        "id": "Hj2KFWCCa9gg"
      },
      "source": [
        "**Ejercicio 3** Implemente un algoritmo Divide y Vencerás que calcula la suma de una matriz de números, representada como una lista de listas"
      ]
    },
    {
      "attachments": {},
      "cell_type": "markdown",
      "metadata": {
        "id": "KmNNPhdIbhcr"
      },
      "source": [
        "**Ejercicio 4** Dada una lista de números, proponga algoritmos Divide & Conquer para:\n",
        "\n",
        "a. Encontrar el menor elemento de la lista\n",
        "\n",
        "b. Encontrar el mayor elemento de la lista\n",
        "\n",
        "c. Encontrar el menor y el mayor elemento de la lista"
      ]
    },
    {
      "cell_type": "code",
      "execution_count": 4,
      "metadata": {},
      "outputs": [
        {
          "name": "stdout",
          "output_type": "stream",
          "text": [
            "(2, 4)\n"
          ]
        }
      ],
      "source": [
        "def minmax(S, start, stop) -> tuple:\n",
        "    if stop-start <= 1:\n",
        "        elements = [S[start], S[stop]]\n",
        "        minimum = min(elements)\n",
        "        maximum = max(elements)\n",
        "        return (minimum,maximum)\n",
        "    else:\n",
        "        center = (start+stop) //2\n",
        "        (min1,max1) = minmax(S, start, center)\n",
        "        (min2,max2) = minmax(S, center+1, stop)\n",
        "\n",
        "        list_min = [min1,min2]\n",
        "        minimum = min(list_min)\n",
        "\n",
        "        list_max = [max1,max2]\n",
        "        maximum = max(list_max)\n",
        "\n",
        "        return (minimum,maximum)\n",
        "    \n",
        "L = [4,2,3]\n",
        "print(minmax(L,0,len(L)-1))\n"
      ]
    },
    {
      "attachments": {},
      "cell_type": "markdown",
      "metadata": {
        "id": "gkfJS7c9dQPf"
      },
      "source": [
        "**Ejercicio 5** Escriba un algoritmo Divide & Conquer para calcular la potencia $b^n$ calculando potencias menores en cada paso. Puede suponer que $n$ es un numero positivo"
      ]
    },
    {
      "attachments": {},
      "cell_type": "markdown",
      "metadata": {
        "id": "n1dkqUSoexoa"
      },
      "source": [
        "**Ejercicio 6** De un algoritmo Divide & Conquer para encontrar el número más grande de una lista, y el segundo mas grande. Puede suponer que la lista siempre tiene al menos dos numeros y que los numeros son todos distintos entre si."
      ]
    }
  ],
  "metadata": {
    "colab": {
      "provenance": []
    },
    "kernelspec": {
      "display_name": "Python 3",
      "name": "python3"
    },
    "language_info": {
      "codemirror_mode": {
        "name": "ipython",
        "version": 3
      },
      "file_extension": ".py",
      "mimetype": "text/x-python",
      "name": "python",
      "nbconvert_exporter": "python",
      "pygments_lexer": "ipython3",
      "version": "3.10.11"
    }
  },
  "nbformat": 4,
  "nbformat_minor": 0
}
