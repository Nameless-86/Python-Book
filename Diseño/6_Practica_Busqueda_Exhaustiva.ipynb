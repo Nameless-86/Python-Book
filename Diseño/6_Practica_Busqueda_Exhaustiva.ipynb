{
  "cells": [
    {
      "attachments": {},
      "cell_type": "markdown",
      "metadata": {
        "id": "7u24cwGnQTGB"
      },
      "source": [
        "# Práctica 6: Algoritmos de busqueda exhaustiva"
      ]
    },
    {
      "attachments": {},
      "cell_type": "markdown",
      "metadata": {
        "id": "DE49vwGLUvLr"
      },
      "source": [
        "**Ejercicio 1**: Dado un número entero compuesto, aplicar un algoritmo de busqueda exhaustiva para dar con uno de sus divisores no triviales."
      ]
    },
    {
      "cell_type": "code",
      "execution_count": 13,
      "metadata": {},
      "outputs": [
        {
          "name": "stdout",
          "output_type": "stream",
          "text": [
            "[2, 3, 5, 6, 10, 15] divide a 30\n"
          ]
        }
      ],
      "source": [
        "N = int(input(\"Ingresar int\"))\n",
        "\n",
        "def es_solucion(intento) -> bool:\n",
        "    if (N % intento == 0): return True\n",
        "    return False\n",
        "\n",
        "def candidatos ():\n",
        "    for i in range(2,N):\n",
        "        yield i\n",
        "\n",
        "def resolver() -> list:\n",
        "    solucion = []\n",
        "    for candidado in candidatos():\n",
        "        if es_solucion(candidado):\n",
        "            solucion.append(candidado)\n",
        "    return solucion\n",
        "\n",
        "\n",
        "solucion = resolver()\n",
        "print(f\"{solucion} divide a {N}\")"
      ]
    },
    {
      "attachments": {},
      "cell_type": "markdown",
      "metadata": {
        "id": "OiqDgyg39tbZ"
      },
      "source": [
        "**Ejercicio 2**: Encuentre todas las soluciones naturales de la ecuación $a² + b² = c²$, donde $1\\leq a, b, c \\leq n$. \n",
        "\n",
        "_Ayuda: utilice itertools.product_"
      ]
    },
    {
      "cell_type": "code",
      "execution_count": 15,
      "metadata": {},
      "outputs": [
        {
          "name": "stdout",
          "output_type": "stream",
          "text": [
            "(3, 4, 5)\n"
          ]
        }
      ],
      "source": [
        "def es_solucion(a,b,c):\n",
        "    if (a**2 + b**2 == c**2): return True\n",
        "    return False\n",
        "\n",
        "def candidatos(N):\n",
        "    for a in range(1,N):\n",
        "        for b in range(a,N):\n",
        "            for c in range(b,N):\n",
        "                yield a,b,c\n",
        "\n",
        "def resolver(N):\n",
        "    for a,b,c in candidatos(N):\n",
        "        if es_solucion(a,b,c):\n",
        "            return a,b,c\n",
        "    return -1\n",
        "    \n",
        "\n",
        "solucion = resolver(10)\n",
        "print(f\"{solucion}\")"
      ]
    },
    {
      "attachments": {},
      "cell_type": "markdown",
      "metadata": {
        "id": "G5u4FQJVTFdz"
      },
      "source": [
        "**Ejercicio 3**: Dada una lista de $n$ números y un número mágico $m$, determinar si existen en la lista 3 números cuya suma sea el número mágico $m$. Se pueden repetir números.\n",
        "\n",
        "_Ayuda_: utilice `itertools.product`"
      ]
    },
    {
      "cell_type": "code",
      "execution_count": 23,
      "metadata": {},
      "outputs": [
        {
          "name": "stdout",
          "output_type": "stream",
          "text": [
            "(1, 1, 8)\n"
          ]
        }
      ],
      "source": [
        "def es_solucion(lista,i,j,k,m):\n",
        "    if (lista[i] + lista[j] + lista[k] == m): return True\n",
        "    return False\n",
        "\n",
        "\n",
        "def candidadtos(lista):\n",
        "    for i in range(len(lista)-2):\n",
        "        for j in range(len(lista)-1):\n",
        "            for k in range(len(lista)):\n",
        "                yield i, j, k\n",
        "\n",
        "def resolver(lista, m):\n",
        "\n",
        "    for i,j,k in candidadtos(lista):\n",
        "        if es_solucion(lista,i,j,k,m):\n",
        "            return lista[i],lista[j],lista[k]\n",
        "    return -1\n",
        "\n",
        "\n",
        "solucion = resolver([1,3,5,7,8,9,10,11],10)\n",
        "print(f\"{solucion}\")\n",
        "\n"
      ]
    },
    {
      "attachments": {},
      "cell_type": "markdown",
      "metadata": {
        "id": "YPW238Hs7o6B"
      },
      "source": [
        "**Ejercicio 4**: Dada una lista de $n$ números y un número mágico $m$, determinar si existen en la lista $k$ números cuya suma sea el número mágico $m$. Se pueden repetir números.\n",
        "\n",
        "_Ayuda_: utilice `itertools.product`"
      ]
    },
    {
      "cell_type": "code",
      "execution_count": 1,
      "metadata": {},
      "outputs": [
        {
          "name": "stdout",
          "output_type": "stream",
          "text": [
            "[[5, 7], [6, 6], [7, 5]]\n"
          ]
        }
      ],
      "source": [
        "import itertools\n",
        "from itertools import product\n",
        "\n",
        "def es_solucion(lista, m):\n",
        "    if sum(lista) == m: return True\n",
        "    return False\n",
        "\n",
        "def canditatos(k, lista):\n",
        "    posibles = itertools.product((lista), repeat=k)\n",
        "    return list(posibles)    \n",
        "\n",
        "def resolver(m):\n",
        "    soluciones = []\n",
        "    for candidato in canditatos(k, lista1):\n",
        "       if  es_solucion(candidato, m):\n",
        "           C = list(candidato)\n",
        "           soluciones.append(C)\n",
        "    return soluciones   \n",
        "\n",
        "    \n",
        "lista1= [1, 5, 6, 7, 8]\n",
        "m = 12\n",
        "k = 2\n",
        "problema4 = resolver(m)\n",
        "print(problema4)"
      ]
    },
    {
      "attachments": {},
      "cell_type": "markdown",
      "metadata": {
        "id": "2njPPbBw8Zx-"
      },
      "source": [
        "**Ejercicio 5**: El problema del agente viajero\n",
        "\n",
        "Dada una lista de $n$ ciudades y las distancias entre cada par de ellas,\n",
        "encontrar el recorrido más corto posible que visita cada ciudad\n",
        "exactamente una vez y regresa a la ciudad origen.\n",
        "\n",
        "Por ejemplo, dadas las ciudad a, b, c y d con distancias:\n",
        "\n",
        "a - b: 2\n",
        "\n",
        "a - c: 5\n",
        "\n",
        "a - d: 7\n",
        "\n",
        "b - c: 8\n",
        "\n",
        "b - d: 3\n",
        "\n",
        "c - d: 1\n",
        "\n",
        "El camino optimo es a -> b -> d -> c -> a\n",
        "\n",
        "_Ayuda_: Utilice `networkx` y la función `simple_cycles`. "
      ]
    },
    {
      "cell_type": "code",
      "execution_count": null,
      "metadata": {
        "id": "wvw_Qru-943Y"
      },
      "outputs": [],
      "source": [
        "!pip install networkx"
      ]
    },
    {
      "cell_type": "code",
      "execution_count": null,
      "metadata": {
        "id": "50GxpsGw8ZGH"
      },
      "outputs": [],
      "source": [
        "import networkx as nx\n",
        "\n",
        "\n",
        "def TSP(G):\n",
        "  # Completar!!!\n",
        "  pass\n",
        "\n",
        "G = nx.Graph()\n",
        "G.add_nodes_from(\"abcd\")\n",
        "G.add_edge(\"a\", \"b\", weight=2)\n",
        "G.add_edge(\"a\", \"c\", weight=5)\n",
        "G.add_edge(\"a\", \"d\", weight=7)\n",
        "G.add_edge(\"b\", \"c\", weight=8)\n",
        "G.add_edge(\"b\", \"d\", weight=3)\n",
        "G.add_edge(\"c\", \"d\", weight=1)\n",
        "\n",
        "print(TSP(G))"
      ]
    },
    {
      "attachments": {},
      "cell_type": "markdown",
      "metadata": {
        "id": "yoPdPd-KBdYI"
      },
      "source": [
        "**Ejercicio 6: El problema de la mochila**\n",
        "\n",
        "Sean $n$ distintos tipos de objetos, de los cuales se tienen $q_i$ unidades disponibles para cada tipo ($1 ≤ q_i ≤ ∞$). Cada tipo de objeto $i$ tiene un\n",
        "beneficio asociado $v_i$ y un peso (o volumen) $w_i$ ($vi\n",
        ", wi > 0$).\n",
        "\n",
        "Por otro lado se tiene una mochila, donde se pueden introducir los\n",
        "objetos, que soporta un peso máximo (o volumen máximo) $W$.\n",
        "El problema consiste en meter en la mochila objetos de tal forma que\n",
        "se maximice el valor de los objetos que contiene y siempre que no se\n",
        "supere el peso máximo que puede soportar la misma. \n",
        "\n",
        "Por ejemplo, si la capacidad de la mochila es $W=5 kg$ y los candidatoss objetos:\n",
        "\n",
        "| Objeto ($i$) | Cantidad ($q_i$)| Valor ($v_i)$ | Peso ($w_i$) | \n",
        "|--------------|-----------------|---------------|--------------|\n",
        "| objeto 1     |   1             | 10usd         | 1 kg         |\n",
        "| objeto 2     |   2             | 20usd         | 3 kg         |\n",
        "| objeto 3     |   1             | 15usd         | 2 kg         |\n",
        "| objeto 4     |   3             | 20usd         | 4 kg         |\n",
        "\n",
        "Conviene llevar una unidad del objeto 2 y una unidad del objeto 3.\n"
      ]
    },
    {
      "cell_type": "code",
      "execution_count": null,
      "metadata": {
        "collapsed": true,
        "id": "4Mm5rg0vBZf3"
      },
      "outputs": [],
      "source": [
        "import itertools\n",
        "\n",
        "W = 5\n",
        "\n",
        "class Objeto:\n",
        "  def __init__(self, i, v, w):\n",
        "    self.i = i # Solo para identificar el objeto\n",
        "    self.v = v # Valor que nos aporta\n",
        "    self.w = w # Peso del objeto\n",
        "\n",
        "  def __str__(self):\n",
        "    return f\"Objeto({self.i}, peso={self.w}, beneficio={self.v})\"\n",
        "\n",
        "  __repr__ = __str__\n",
        "\n",
        "class Mochila(list):\n",
        "  def __init__(self, *args, ):\n",
        "    super().__init__(*args)\n",
        "    self.W = W # Capacidad maxima de la mochila\n",
        "\n",
        "  def peso_total(self):\n",
        "    peso = 0 \n",
        "    for i in self:\n",
        "      peso += i.w\n",
        "    return peso\n",
        "\n",
        "  def valor_total(self):\n",
        "    valor = 0\n",
        "    for i in self:\n",
        "      valor += i.v\n",
        "    return valor\n",
        "\n",
        "def knapsack(objs):\n",
        "  # COMPLETAR!! \n",
        "  pass\n",
        "\n",
        "knapsack(objetos)"
      ]
    }
  ],
  "metadata": {
    "colab": {
      "provenance": []
    },
    "kernelspec": {
      "display_name": "Python 3",
      "name": "python3"
    },
    "language_info": {
      "codemirror_mode": {
        "name": "ipython",
        "version": 3
      },
      "file_extension": ".py",
      "mimetype": "text/x-python",
      "name": "python",
      "nbconvert_exporter": "python",
      "pygments_lexer": "ipython3",
      "version": "3.10.11"
    }
  },
  "nbformat": 4,
  "nbformat_minor": 0
}
